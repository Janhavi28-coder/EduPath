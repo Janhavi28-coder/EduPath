{
 "cells": [
  {
   "cell_type": "markdown",
   "id": "ba3359eb",
   "metadata": {},
   "source": [
    "# EduPath – Career Guidance System (by Janhavi)"
   ]
  },
  {
   "cell_type": "code",
   "execution_count": null,
   "id": "0fdf9ebc",
   "metadata": {},
   "outputs": [],
   "source": [
    "!pip install pandas numpy scikit-learn joblib openpyxl"
   ]
  },
  {
   "cell_type": "code",
   "execution_count": null,
   "id": "88d3c19e",
   "metadata": {},
   "outputs": [],
   "source": [
    "import pandas as pd\n",
    "import numpy as np\n",
    "from sklearn.tree import DecisionTreeClassifier\n",
    "from sklearn.model_selection import train_test_split\n",
    "from sklearn.metrics import accuracy_score\n",
    "import joblib"
   ]
  },
  {
   "cell_type": "markdown",
   "id": "ed2720e6",
   "metadata": {},
   "source": [
    "### Load Dataset"
   ]
  },
  {
   "cell_type": "code",
   "execution_count": null,
   "id": "76cea9f6",
   "metadata": {},
   "outputs": [],
   "source": [
    "df = pd.read_excel('students.xlsx')\n",
    "df"
   ]
  },
  {
   "cell_type": "markdown",
   "id": "0ec94111",
   "metadata": {},
   "source": [
    "### Rule Based Prediction Function"
   ]
  },
  {
   "cell_type": "code",
   "execution_count": null,
   "id": "292060be",
   "metadata": {},
   "outputs": [],
   "source": [
    "import pandas as pd\n",
    "import numpy as np\n",
    "from sklearn.tree import DecisionTreeClassifier\n",
    "from sklearn.model_selection import train_test_split\n",
    "from sklearn.metrics import accuracy_score\n",
    "import joblib\n",
    "\n",
    "# Subjects\n",
    "SUBJECTS = [\"Math\", \"Science\", \"English\", \"Logical Thinking\", \"Computer Science\", \"Social Studies\", \"Arts\"]\n",
    "\n",
    "# Streams and weights (rule-based)\n",
    "STREAM_WEIGHTS = {\n",
    "    \"STEM\": {\"Math\": 0.25, \"Science\": 0.25, \"Logical Thinking\": 0.2, \"Computer Science\": 0.3},\n",
    "    \"Arts\": {\"Arts\": 0.4, \"English\": 0.3, \"Social Studies\": 0.3},\n",
    "    \"Commerce\": {\"Math\": 0.3, \"English\": 0.3, \"Social Studies\": 0.4},\n",
    "    \"Computer Science\": {\"Computer Science\": 0.4, \"Math\": 0.3, \"Logical Thinking\": 0.3}\n",
    "}\n",
    "\n",
    "# Proficiency levels\n",
    "def proficiency_level(score):\n",
    "    if score >= 85:\n",
    "        return \"Advanced\"\n",
    "    elif score >= 70:\n",
    "        return \"Proficient\"\n",
    "    elif score >= 50:\n",
    "        return \"Developing\"\n",
    "    else:\n",
    "        return \"Needs Support\"\n",
    "\n",
    "# Read dataset\n",
    "df = pd.read_excel(\"students.xlsx\")\n",
    "\n",
    "# Rule-based prediction\n",
    "def rule_based_prediction(student):\n",
    "    scores = {}\n",
    "    for stream, weights in STREAM_WEIGHTS.items():\n",
    "        total = sum(student[subj] * w for subj, w in weights.items())\n",
    "        scores[stream] = total\n",
    "    best_stream = max(scores, key=scores.get)\n",
    "    return best_stream, scores[best_stream]\n",
    "\n"
   ]
  },
  {
   "cell_type": "markdown",
   "id": "d32df30d",
   "metadata": {},
   "source": [
    "### Train ML Model"
   ]
  },
  {
   "cell_type": "code",
   "execution_count": null,
   "id": "8f1501fb",
   "metadata": {},
   "outputs": [],
   "source": [
    "X = df[SUBJECTS]\n",
    "\n",
    "y = []\n",
    "for _, row in df.iterrows():\n",
    "    stream, _ = rule_based_prediction(row)\n",
    "    y.append(stream)\n",
    "\n",
    "X_train, X_test, y_train, y_test = train_test_split(X, y, test_size=0.3, random_state=42)\n",
    "clf = DecisionTreeClassifier(random_state=42)\n",
    "clf.fit(X_train, y_train)\n",
    "y_pred = clf.predict(X_test)\n",
    "print('ML Model Accuracy:', accuracy_score(y_test, y_pred))"
   ]
  },
  {
   "cell_type": "markdown",
   "id": "0f304261",
   "metadata": {},
   "source": [
    "### Predictions"
   ]
  },
  {
   "cell_type": "code",
   "execution_count": null,
   "id": "6aaef105",
   "metadata": {},
   "outputs": [],
   "source": [
    "predictions = []\n",
    "for _, row in df.iterrows():\n",
    "    rule_stream, conf = rule_based_prediction(row)\n",
    "    ml_stream = clf.predict([row[SUBJECTS]])[0]\n",
    "    predictions.append({\n",
    "        'Roll No': row['Roll No'],\n",
    "        'Name': row['Name'],\n",
    "        **{subj: row[subj] for subj in SUBJECTS},\n",
    "        'Rule_Based_Stream': rule_stream,\n",
    "        'ML_Stream': ml_stream,\n",
    "        'Confidence': round(conf/100, 2),\n",
    "        **{f\"{subj}_Proficiency\": proficiency_level(row[subj]) for subj in SUBJECTS}\n",
    "    })\n",
    "\n",
    "result_df = pd.DataFrame(predictions)\n",
    "result_df"
   ]
  }
 ],
 "metadata": {},
 "nbformat": 4,
 "nbformat_minor": 5
}
